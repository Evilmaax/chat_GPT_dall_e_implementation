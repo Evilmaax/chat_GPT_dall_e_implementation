{
 "cells": [
  {
   "cell_type": "code",
   "execution_count": null,
   "metadata": {},
   "outputs": [],
   "source": [
    "# Uncomment the line below to install te lib\n",
    "# !pip install openai --user"
   ]
  },
  {
   "cell_type": "code",
   "execution_count": null,
   "metadata": {},
   "outputs": [],
   "source": [
    "import openai, requests\n",
    "from myopenai import OpenAIRequest\n",
    "from io import BytesIO\n",
    "from PIL import Image \n",
    "\n",
    "# Insert your auth key in the next line. You can generate the key in https://beta.openai.com/account/api-keys\n",
    "MY_KEY = \"xxxxxxxxxxxxxxxxxxx\"\n",
    "\n",
    "openai = OpenAIRequest(MY_KEY)\n",
    "model = \"text-davinci-003\"\n",
    "n = 1\n",
    "max_tokens = 4000\n",
    "temperature = 0.7\n",
    "best_of = 1\n",
    "size = \"512x512\"\n",
    "op = 0\n",
    "\n",
    "while op != 3:\n",
    "    op = int(input(\"\\nChose which OpenAI feature you want to use:\\n\\n1 - Chat GPT\\n2 - Dall-E\\n3 - Exit\\n\\nAnswer: \"))\n",
    "    \n",
    "    if op == 1:\n",
    "        prompt = input(\"\\nInsert the prompt for chat GPT or 'Options' to change default values: \")\n",
    "        if prompt == 'Options':\n",
    "            model = input(\"\\nModel to be used in text generation (default value -> 'text-davinci-003'): \")\n",
    "            n = int(input(\"Number of responses to be generated (default value -> 1): \"))\n",
    "            max_tokens = int(input(\"Number of tokens used for prompt and responses. Max to 4096  (default value -> 4000): \"))\n",
    "            temperature = float(input(\"Set the temperature level between 0 - more conservative response - and 1 - more 'creative' response (default value -> 0.7): \"))\n",
    "            best_of = int(input(\"Number of responses to be displayed from the generated answers (default value -> 1): \"))\n",
    "            prompt = input(\"\\nInsert the prompt for chat GPT: \")\n",
    "        \n",
    "        chat = openai.callGPT(prompt, model, n, max_tokens, temperature, best_of)\n",
    "\n",
    "    if op == 2:\n",
    "        prompt = input(\"\\nInsert the description of the image you want to generate or 'Options' to change default configuration values: \")\n",
    "        if prompt == 'Options':\n",
    "            size = input(\"\\nInsert the size to be used in generated images. Must be one of '256x256', '512x512', or '1024x1024' (default value -> '512x512'): \")\n",
    "            prompt = input(\"Insert the description of the image you want to generate: \")\n",
    "        number_of_images = int(input(\"Insert the number of images to be generated: \"))\n",
    "        \n",
    "        images = openai.callDalle(prompt, number_of_images, size)\n",
    "        for url in images:\n",
    "            response = requests.get(url)\n",
    "            display(Image.open(BytesIO(response.content)))\n"
   ]
  },
  {
   "cell_type": "code",
   "execution_count": null,
   "metadata": {},
   "outputs": [],
   "source": []
  }
 ],
 "metadata": {
  "kernelspec": {
   "display_name": "Python 3",
   "language": "python",
   "name": "python3"
  },
  "language_info": {
   "codemirror_mode": {
    "name": "ipython",
    "version": 3
   },
   "file_extension": ".py",
   "mimetype": "text/x-python",
   "name": "python",
   "nbconvert_exporter": "python",
   "pygments_lexer": "ipython3",
   "version": "3.11.0 (main, Oct 24 2022, 18:26:48) [MSC v.1933 64 bit (AMD64)]"
  },
  "orig_nbformat": 4,
  "vscode": {
   "interpreter": {
    "hash": "c261aea317cc0286b3b3261fbba9abdec21eaa57589985bb7a274bf54d6cc0a7"
   }
  }
 },
 "nbformat": 4,
 "nbformat_minor": 2
}
